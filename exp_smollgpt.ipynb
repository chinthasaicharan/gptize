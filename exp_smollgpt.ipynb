{
 "cells": [
  {
   "cell_type": "code",
   "execution_count": 1,
   "metadata": {},
   "outputs": [
    {
     "name": "stdout",
     "output_type": "stream",
     "text": [
      "length of text : 3956970\n",
      "vocab_size=110\n",
      "torch.Size([3561273]) torch.Size([395697])\n"
     ]
    }
   ],
   "source": [
    "import torch\n",
    "from torch import nn\n",
    "import torch.nn.functional as F\n",
    "\n",
    "\n",
    "with open(\"ts_lyrics.txt\", \"r\") as f:\n",
    "  text = f.read()\n",
    "print(f\"length of text : {len(text)}\")\n",
    "chars = sorted(list(set(text)))\n",
    "vocab_size = len(chars)\n",
    "print(f\"vocab_size={vocab_size}\")\n",
    "\n",
    "# encode decode\n",
    "stoi = {ch:i for i,ch in enumerate(chars)}\n",
    "itos = {v:k for k,v in stoi.items()}\n",
    "encode = lambda s : [stoi[i] for i in s]\n",
    "decode = lambda l : \"\".join(itos[i] for i in l)\n",
    "\n",
    "# !wget 'https://raw.githubusercontent.com/karpathy/char-rnn/master/data/tinyshakespeare/input.txt'\n",
    "\n",
    "data = torch.tensor(encode(text),dtype=torch.long)\n",
    "n = int(0.9*len(data))\n",
    "train_data = data[:n]\n",
    "val_data = data[n:]\n",
    "print(train_data.shape , val_data.shape)\n",
    "\n",
    "device = 'cuda' if torch.cuda.is_available() else 'cpu'\n",
    "\n",
    "block_size = 256\n",
    "batch_size = 64\n",
    "emb_size = 384\n",
    "num_heads = 6\n",
    "dropout = 0.2"
   ]
  },
  {
   "cell_type": "code",
   "execution_count": 28,
   "metadata": {},
   "outputs": [],
   "source": [
    "from typing import Iterator\n",
    "\n",
    "\n",
    "from torch.nn.parameter import Parameter\n",
    "\n",
    "\n",
    "def get_batch(split):\n",
    "  data = train_data if split == \"train\" else val_data\n",
    "  ix = torch.randint(len(data)-block_size, (batch_size,))\n",
    "  xb = torch.stack([data[i:i+block_size] for i in ix])\n",
    "  yb = torch.stack([data[i+1:i+block_size+1] for i in ix])\n",
    "  xb, yb = xb.to(device), yb.to(device)\n",
    "  return xb, yb\n",
    "\n",
    "@torch.no_grad()\n",
    "def estimate_loss(model, eval_iters):\n",
    "    out = {}\n",
    "    model.eval()\n",
    "    for split in ['train', 'val']:\n",
    "        losses = torch.zeros(eval_iters)\n",
    "        for k in range(eval_iters):\n",
    "            X, Y = get_batch(split)\n",
    "            logits, loss = model(X, Y)\n",
    "            losses[k] = loss.item()\n",
    "        out[split] = losses.mean()\n",
    "    model.train()\n",
    "    return out\n",
    "\n",
    "class LayerNorm1d(nn.Module):\n",
    "    def __init__(self, n_featues, epsil= 1e-5):\n",
    "        super(LayerNorm1d,self).__init__()\n",
    "        self.epsil = epsil\n",
    "        self.gain = torch.ones(n_featues,  device=device)\n",
    "        self.bias = torch.zeros(n_featues, device=device)\n",
    "\n",
    "    def forward(self, x):\n",
    "        mean = x.mean(1,keepdim=True)\n",
    "        var  = x.var(1,keepdim=True)\n",
    "        self.out = self.gain*(x - mean)/torch.sqrt(var + self.epsil) + self.bias\n",
    "        return self.out\n",
    "    \n",
    "\n",
    "class Head(nn.Module):\n",
    "    def __init__(self, block_size, emb_size, head_size):\n",
    "        super().__init__()\n",
    "        self.query = nn.Linear(emb_size, head_size,bias=False,device=device)\n",
    "        self.key = nn.Linear(emb_size, head_size,bias=False, device=device)\n",
    "        self.value = nn.Linear(emb_size, head_size, bias=False, device=device)\n",
    "        self.register_buffer(\"tril\", torch.tril(torch.ones(block_size, block_size,device=device)))\n",
    "\n",
    "        self.dropout = nn.Dropout(dropout)      \n",
    "\n",
    "\n",
    "    def forward(self, x):\n",
    "        B, T, C = x.shape # C-head_size\n",
    "        q = self.query(x)\n",
    "        k = self.key(x)\n",
    "        v = self.value(x)\n",
    "        wei =  q @ k.transpose(-2,-1) * C**-0.5  # (B,T,C ) @ (B,C,T) =  (B,T,T)\n",
    "        wei = wei.masked_fill(self.tril[:T,:T]==0, float('-inf'))\n",
    "        wei = F.softmax(wei, dim=-1) # (B,T,T)\n",
    "        wei = self.dropout(wei)\n",
    "        out = wei @ v  # (B,T,T) @ (B,T,C) = B,T,C\n",
    "        return out\n",
    "    \n",
    "    def parameters(self, recurse: bool = True) -> Iterator[Parameter]:\n",
    "        return  [self.query, self.key, self.value]\n",
    "\n",
    "class MultiHeadAttention(nn.Module):\n",
    "  def __init__(self, block_size, emb_size, head_size, num_heads):\n",
    "    super().__init__()\n",
    "    self.heads = nn.ModuleList([Head(block_size, emb_size, head_size) for _ in range(num_heads)])\n",
    "    self.dropout = nn.Dropout(dropout)\n",
    "\n",
    "  def forward(self, x):\n",
    "    out = torch.cat([h(x) for h in self.heads], dim=-1)\n",
    "    out = self.dropout(out)\n",
    "    return out\n",
    "  \n",
    "\n",
    "class FeedForward(nn.Module):\n",
    "   \n",
    "    def __init__(self, emb_size ):\n",
    "      super().__init__()\n",
    "      self.net = nn.Sequential(\n",
    "         nn.Linear(emb_size, 4*emb_size),  # x4 output for computation\n",
    "         nn.ReLU(), \n",
    "         nn.Linear(4*emb_size, emb_size),\n",
    "         nn.Dropout(dropout)\n",
    "      )\n",
    "\n",
    "    def forward(self, x):\n",
    "      return self.net(x)   \n",
    "\n",
    "class Block(nn.Module):\n",
    "    def __init__(self, emb_size, block_size, num_heads ):\n",
    "        super().__init__()\n",
    "        self.attention_heads = MultiHeadAttention(block_size, emb_size, head_size=emb_size//num_heads, num_heads=num_heads)\n",
    "        self.ffwd = FeedForward(emb_size)\n",
    "        self.ln1 = LayerNorm1d(emb_size)\n",
    "        self.ln2 = LayerNorm1d(emb_size)\n",
    "\n",
    "    def forward(self, x):\n",
    "        x = x + self.attention_heads(self.ln1(x))\n",
    "        x = x + self.ffwd(self.ln2(x))\n",
    "        return x\n",
    "  \n",
    "class GPTModel(nn.Module):\n",
    "    def __init__(self, vocab_size, emb_size, num_heads):\n",
    "        super().__init__()\n",
    "        self.token_embedding_table = nn.Embedding(vocab_size, emb_size)\n",
    "        self.position_embedding_table = nn.Embedding(block_size, emb_size)\n",
    "        self.blocks = nn.Sequential(\n",
    "           Block(emb_size, block_size, num_heads),\n",
    "           Block(emb_size, block_size, num_heads),\n",
    "           Block(emb_size, block_size, num_heads),\n",
    "           )\n",
    "        self.proj = nn.Linear(emb_size, vocab_size)\n",
    "\n",
    "    def forward(self, x, targets=None):\n",
    "        token_emb = self.token_embedding_table(x) # inp: B,T out: B,T,C \n",
    "        posi_emb = self.position_embedding_table(torch.arange(x.shape[1], device=device))  # inp: B,T out: B,T,C \n",
    "        x = token_emb + posi_emb  # B,T,C + B,T,C  \n",
    "        out_heads = self.blocks(x)\n",
    "        logits = self.proj(out_heads) # B,T,C --> B,T,C\n",
    "\n",
    "        if targets is not None:\n",
    "            loss = F.cross_entropy( logits.view(logits.shape[0]*logits.shape[1], logits.shape[2]), targets.view(-1)) # B*T,C cmp B*T === same batch dimension\n",
    "        else:\n",
    "            loss = None\n",
    "        return logits, loss\n",
    "\n",
    "    def train_model(self, optimizer, epochs=100):\n",
    "        lossi = []\n",
    "        for i in range(epochs):\n",
    "            xb, yb = get_batch(\"train\")\n",
    "            # print(xb.device, yb.device)\n",
    "            logits, loss = self.forward(xb, yb)\n",
    "            optimizer.zero_grad(set_to_none=True)\n",
    "            loss.backward()\n",
    "            lossi.append(loss.item())\n",
    "            optimizer.step()\n",
    "            if(i%(epochs//10) == 0):\n",
    "                print(f\"epochs : {i}, loss : {loss.item()}\")\n",
    "\n",
    "        print(\"training completed\")\n",
    "        return lossi\n",
    "\n",
    "    def generate(self, idx, max_new_tokens= 1):\n",
    "        # self.train()\n",
    "        for i in range(max_new_tokens):\n",
    "            logits, loss = self(torch.tensor([idx], dtype=torch.long, device=device))\n",
    "            logc = logits[:,-1,:]\n",
    "            probs = F.softmax(logc, dim=-1)\n",
    "            pred = torch.multinomial(probs, num_samples=1, replacement=True)\n",
    "            # print(pred)\n",
    "            idx = idx[1:] + [pred.item()]\n",
    "            # print(idx)\n",
    "            print(decode([pred.item()]), end=\"\")\n",
    "        # self.eval()"
   ]
  },
  {
   "cell_type": "code",
   "execution_count": 30,
   "metadata": {},
   "outputs": [
    {
     "name": "stdout",
     "output_type": "stream",
     "text": [
      "5054702 parameters\n"
     ]
    }
   ],
   "source": [
    "model = GPTModel(vocab_size, emb_size, num_heads)\n",
    "m = model.to(device)\n",
    "print(sum(p.numel() for p in m.parameters()), 'parameters')\n",
    "# print(next(m.parameters()).device)\n",
    "optim = torch.optim.AdamW(m.parameters(), lr=3e-4)"
   ]
  },
  {
   "cell_type": "code",
   "execution_count": 31,
   "metadata": {},
   "outputs": [
    {
     "name": "stdout",
     "output_type": "stream",
     "text": [
      "epochs : 0, loss : 5.081465721130371\n",
      "epochs : 10, loss : 2.9975175857543945\n",
      "epochs : 20, loss : 2.816222906112671\n",
      "epochs : 30, loss : 2.7217464447021484\n",
      "epochs : 40, loss : 2.598987340927124\n",
      "epochs : 50, loss : 2.5733702182769775\n",
      "epochs : 60, loss : 2.5442352294921875\n",
      "epochs : 70, loss : 2.523676872253418\n",
      "epochs : 80, loss : 2.486051559448242\n",
      "epochs : 90, loss : 2.4949402809143066\n",
      "training completed\n"
     ]
    }
   ],
   "source": [
    "ls = m.train_model(optimizer=optim, epochs=100) "
   ]
  },
  {
   "cell_type": "code",
   "execution_count": 22,
   "metadata": {},
   "outputs": [
    {
     "name": "stdout",
     "output_type": "stream",
     "text": [
      "{'train': tensor(1.2040), 'val': tensor(1.1993)}\n"
     ]
    }
   ],
   "source": [
    "losses = estimate_loss(m, 100)\n",
    "print(losses)"
   ]
  },
  {
   "cell_type": "code",
   "execution_count": 26,
   "metadata": {},
   "outputs": [],
   "source": [
    "def generate(model : nn.Module, idx, max_new_tokens= 1):\n",
    "    model.eval()\n",
    "    for i in range(max_new_tokens):\n",
    "        logits, loss = model(torch.tensor([idx], dtype=torch.long, device=device))\n",
    "        logc = logits[:,-1,:]\n",
    "        probs = F.softmax(logc, dim=-1)\n",
    "        pred = torch.multinomial(probs, num_samples=1, replacement=True)\n",
    "        # print(pred)\n",
    "        idx = idx[1:] + [pred.item()]\n",
    "        # print(idx)\n",
    "        print(decode([pred.item()]), end=\"\")\n",
    "    model.train()"
   ]
  },
  {
   "cell_type": "code",
   "execution_count": 32,
   "metadata": {},
   "outputs": [
    {
     "data": {
      "text/plain": [
       "[<matplotlib.lines.Line2D at 0x27fd6b75f10>]"
      ]
     },
     "execution_count": 32,
     "metadata": {},
     "output_type": "execute_result"
    },
    {
     "data": {
      "image/png": "[encoded data removed]",
      "text/plain": [
       "<Figure size 640x480 with 1 Axes>"
      ]
     },
     "metadata": {},
     "output_type": "display_data"
    }
   ],
   "source": [
    "import matplotlib.pyplot as plt\n",
    "plt.plot(torch.tensor(ls).view(-1,50).mean(1))"
   ]
  },
  {
   "cell_type": "code",
   "execution_count": 27,
   "metadata": {},
   "outputs": [
    {
     "name": "stdout",
     "output_type": "stream",
     "text": [
      "ouster, you fivital, ah-ah, I'm fight, blue\n",
      "What I'm gonna take you could off my Ways and it with one this\n",
      "(It's dramn, \"Fillow I'm the black\n",
      "The love you wants fake, I used\n",
      "Ooh, I love wish a was in your time\n",
      "I'm you\n",
      "They (I might just callated you will of found\n",
      "Havating (Stay)\n",
      "I'm still girl who break it you (Yeah)\n",
      "Ah, you (Doling what I'm with you (Ooh)\n",
      "I'm askund (Baby, baby, with (Hah)\n",
      "[Outro]\n",
      "\"I could you wants paying (I'm so stay?)\n",
      "\n",
      "[Bridge])\n",
      "Hey, I'm (Making)\n",
      "\n",
      "[Post-Chorus]\n",
      "I swinuld you (Ou, I wild)\n",
      "Oh, I love (I'm down (Oh)\n",
      "I'm fingal\n",
      "(Stay)  Babe) the passently (Out)\n",
      "Like I gets my back highs\n",
      "Oncage\" (If I, but) where I say\n",
      "I'm the kMiss (Wilda)\n",
      "\n",
      "I'm a gIstard (Isanding to talk (Rud), get (I, I)\n",
      "\n",
      "[Bridge])\n",
      "\n",
      "[Outro]\n",
      "(Oh) I wish place, on (I was stay)\n",
      "& I watched a girl\n",
      "Ah, Gidda joyst my disk (I, I)\n",
      "But I have breaking (Baby)\n",
      "You wanna stall the must girl six (Familyar (I-I-I)\n",
      "Oh)\n",
      "\n",
      "(And ut of the diside\n",
      "\n",
      "[Chorus]\n",
      "Stay was me, you (Bab), I can't (Yeah, I'm faun it J (In) Bridg"
     ]
    }
   ],
   "source": [
    "generate(m, encode(text[:block_size]),max_new_tokens= 1000)"
   ]
  },
  {
   "cell_type": "code",
   "execution_count": 29,
   "metadata": {},
   "outputs": [],
   "source": [
    "torch.save(m.state_dict(), \"saved_models/taylor_gpt.pt\" )"
   ]
  },
  {
   "cell_type": "code",
   "execution_count": 63,
   "metadata": {},
   "outputs": [],
   "source": [
    "checkpoint = torch.load(\"saved_models/final_gpt.pt\", weights_only=True)\n",
    "new_model = GPTModel(vocab_size, emb_size, num_heads)\n",
    "new_model.load_state_dict(checkpoint)\n",
    "m2 = new_model.to(device)"
   ]
  },
  {
   "cell_type": "code",
   "execution_count": 64,
   "metadata": {},
   "outputs": [
    {
     "name": "stdout",
     "output_type": "stream",
     "text": [
      "\n",
      "Can noblene, of I probe cleasore: of Jainerad for thushumband on child,--agen.\n",
      "\n",
      "Leaver Here maidsto Can the Lep My hearkrery\n",
      "With bove fir conswill obat.\n",
      "\n",
      "ESCK:\n",
      "Fon't it of Henfolenory us dick of The nowacamper for thy Lord's vices;\n",
      "And whom flame, Youranne\n",
      "When we un hold hath tist.\n",
      "\n",
      "PERDITABR:\n",
      "And deair poweary, as none theraze;\n",
      "eve fee--'It the be make meatter's vany spolakion'd Did sof MOPSTAUS:\n",
      "How in away\n",
      "efastes teduche words deid injust, burst.\n",
      "\n",
      "aft kning\n",
      "Of have more to such up be,\n",
      "I was your begut thin, in I casse buchas,\n",
      "Stre't.\n",
      "\n",
      "DUKE VINCENTIO:\n",
      "Marcious sto; thisteds.\n",
      "\n",
      "Aspakele.\n",
      "\n",
      "PERDINCETES:\n",
      "O thainks aree Camenget Lo?\n",
      "\n",
      "Firships KI:\n",
      "Them we do scape sint; doter guet ousa!\n",
      "\n",
      "QUEEEN Trangen now, as nother coffect.\n",
      "\n",
      "Fit, upon gix'ear smulled, and his himseldeards!\n",
      "I ser, onfearsul unclest Ladking Heis cursed lookiol, father,\n",
      "For pretonamain is of thusave of Rembs that he will.\n",
      "\n",
      "GLORUCHIFFO:\n",
      "Let if ar he?; apland ineed the discrave kinst land!\n",
      "Frushangest in quoke in honous th"
     ]
    }
   ],
   "source": [
    "generate(m2, encode(text[:block_size]),max_new_tokens= 1000)"
   ]
  }
 ],
 "metadata": {
  "kernelspec": {
   "display_name": "torchcuda",
   "language": "python",
   "name": "python3"
  },
  "language_info": {
   "codemirror_mode": {
    "name": "ipython",
    "version": 3
   },
   "file_extension": ".py",
   "mimetype": "text/x-python",
   "name": "python",
   "nbconvert_exporter": "python",
   "pygments_lexer": "ipython3",
   "version": "3.12.5"
  }
 },
 "nbformat": 4,
 "nbformat_minor": 2
}
